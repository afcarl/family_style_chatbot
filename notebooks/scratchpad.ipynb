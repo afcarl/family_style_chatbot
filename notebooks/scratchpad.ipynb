{
 "cells": [
  {
   "cell_type": "code",
   "execution_count": 11,
   "metadata": {
    "collapsed": true
   },
   "outputs": [],
   "source": [
    "reset -fs"
   ]
  },
  {
   "cell_type": "code",
   "execution_count": 27,
   "metadata": {
    "collapsed": false
   },
   "outputs": [],
   "source": [
    "s = \"Please add Eugene, too.\""
   ]
  },
  {
   "cell_type": "code",
   "execution_count": 29,
   "metadata": {
    "collapsed": false
   },
   "outputs": [],
   "source": [
    "l = s.split()"
   ]
  },
  {
   "cell_type": "code",
   "execution_count": 32,
   "metadata": {
    "collapsed": false
   },
   "outputs": [],
   "source": [
    "user = l[l.index('add')+1]"
   ]
  },
  {
   "cell_type": "code",
   "execution_count": 33,
   "metadata": {
    "collapsed": false
   },
   "outputs": [
    {
     "data": {
      "text/plain": [
       "'Eugene,'"
      ]
     },
     "execution_count": 33,
     "metadata": {},
     "output_type": "execute_result"
    }
   ],
   "source": [
    "user"
   ]
  },
  {
   "cell_type": "code",
   "execution_count": null,
   "metadata": {
    "collapsed": true
   },
   "outputs": [],
   "source": []
  },
  {
   "cell_type": "code",
   "execution_count": null,
   "metadata": {
    "collapsed": true
   },
   "outputs": [],
   "source": []
  },
  {
   "cell_type": "code",
   "execution_count": null,
   "metadata": {
    "collapsed": true
   },
   "outputs": [],
   "source": []
  },
  {
   "cell_type": "code",
   "execution_count": 1,
   "metadata": {
    "collapsed": false
   },
   "outputs": [],
   "source": [
    "from credentials import credentials"
   ]
  },
  {
   "cell_type": "code",
   "execution_count": 2,
   "metadata": {
    "collapsed": false
   },
   "outputs": [],
   "source": [
    "slack_bot_token, bot_id = credentials.require(['slack_bot_token', 'bot_id'])"
   ]
  },
  {
   "cell_type": "code",
   "execution_count": 3,
   "metadata": {
    "collapsed": true
   },
   "outputs": [],
   "source": [
    "from slacker import Slacker"
   ]
  },
  {
   "cell_type": "code",
   "execution_count": 4,
   "metadata": {
    "collapsed": true
   },
   "outputs": [],
   "source": [
    "slack = Slacker(slack_bot_token)"
   ]
  },
  {
   "cell_type": "code",
   "execution_count": 5,
   "metadata": {
    "collapsed": false
   },
   "outputs": [],
   "source": [
    "response = slack.users.list()\n",
    "users = response.body['members']"
   ]
  },
  {
   "cell_type": "code",
   "execution_count": 10,
   "metadata": {
    "collapsed": false
   },
   "outputs": [
    {
     "data": {
      "text/plain": [
       "{u'color': u'9f69e7',\n",
       " u'deleted': False,\n",
       " u'id': u'U1Q9U9EEN',\n",
       " u'is_admin': True,\n",
       " u'is_bot': False,\n",
       " u'is_owner': True,\n",
       " u'is_primary_owner': True,\n",
       " u'is_restricted': False,\n",
       " u'is_ultra_restricted': False,\n",
       " u'name': u'brian_spiering',\n",
       " u'profile': {u'avatar_hash': u'g42b16c89577',\n",
       "  u'email': u'bspiering@gmail.com',\n",
       "  u'first_name': u'brian',\n",
       "  u'image_192': u'https://secure.gravatar.com/avatar/42b16c89577e1e770251c6282acd90ac.jpg?s=192&d=https%3A%2F%2Fa.slack-edge.com%2F7fa9%2Fimg%2Favatars%2Fava_0008-192.png',\n",
       "  u'image_24': u'https://secure.gravatar.com/avatar/42b16c89577e1e770251c6282acd90ac.jpg?s=24&d=https%3A%2F%2Fa.slack-edge.com%2F66f9%2Fimg%2Favatars%2Fava_0008-24.png',\n",
       "  u'image_32': u'https://secure.gravatar.com/avatar/42b16c89577e1e770251c6282acd90ac.jpg?s=32&d=https%3A%2F%2Fa.slack-edge.com%2F66f9%2Fimg%2Favatars%2Fava_0008-32.png',\n",
       "  u'image_48': u'https://secure.gravatar.com/avatar/42b16c89577e1e770251c6282acd90ac.jpg?s=48&d=https%3A%2F%2Fa.slack-edge.com%2F66f9%2Fimg%2Favatars%2Fava_0008-48.png',\n",
       "  u'image_512': u'https://secure.gravatar.com/avatar/42b16c89577e1e770251c6282acd90ac.jpg?s=512&d=https%3A%2F%2Fa.slack-edge.com%2F7fa9%2Fimg%2Favatars%2Fava_0008-512.png',\n",
       "  u'image_72': u'https://secure.gravatar.com/avatar/42b16c89577e1e770251c6282acd90ac.jpg?s=72&d=https%3A%2F%2Fa.slack-edge.com%2F66f9%2Fimg%2Favatars%2Fava_0008-72.png',\n",
       "  u'last_name': u'spiering',\n",
       "  u'real_name': u'brian spiering',\n",
       "  u'real_name_normalized': u'brian spiering'},\n",
       " u'real_name': u'brian spiering',\n",
       " u'status': None,\n",
       " u'team_id': u'T1Q9CFC9E',\n",
       " u'tz': u'America/Los_Angeles',\n",
       " u'tz_label': u'Pacific Daylight Time',\n",
       " u'tz_offset': -25200}"
      ]
     },
     "execution_count": 10,
     "metadata": {},
     "output_type": "execute_result"
    }
   ],
   "source": [
    "users[0]"
   ]
  },
  {
   "cell_type": "code",
   "execution_count": 9,
   "metadata": {
    "collapsed": false
   },
   "outputs": [
    {
     "data": {
      "text/plain": [
       "{u'color': u'3c989f',\n",
       " u'deleted': False,\n",
       " u'id': u'U1Q9DGTUG',\n",
       " u'is_admin': False,\n",
       " u'is_bot': False,\n",
       " u'is_owner': False,\n",
       " u'is_primary_owner': False,\n",
       " u'is_restricted': False,\n",
       " u'is_ultra_restricted': False,\n",
       " u'name': u'eugene',\n",
       " u'profile': {u'avatar_hash': u'ge3706600c03',\n",
       "  u'email': u'eugene.huang@galvanize.com',\n",
       "  u'first_name': u'Eugene',\n",
       "  u'image_192': u'https://secure.gravatar.com/avatar/e3706600c03cca80ffeadb20fe28f58a.jpg?s=192&d=https%3A%2F%2Fa.slack-edge.com%2F7fa9%2Fimg%2Favatars%2Fava_0000-192.png',\n",
       "  u'image_24': u'https://secure.gravatar.com/avatar/e3706600c03cca80ffeadb20fe28f58a.jpg?s=24&d=https%3A%2F%2Fa.slack-edge.com%2F66f9%2Fimg%2Favatars%2Fava_0000-24.png',\n",
       "  u'image_32': u'https://secure.gravatar.com/avatar/e3706600c03cca80ffeadb20fe28f58a.jpg?s=32&d=https%3A%2F%2Fa.slack-edge.com%2F66f9%2Fimg%2Favatars%2Fava_0000-32.png',\n",
       "  u'image_48': u'https://secure.gravatar.com/avatar/e3706600c03cca80ffeadb20fe28f58a.jpg?s=48&d=https%3A%2F%2Fa.slack-edge.com%2F66f9%2Fimg%2Favatars%2Fava_0000-48.png',\n",
       "  u'image_512': u'https://secure.gravatar.com/avatar/e3706600c03cca80ffeadb20fe28f58a.jpg?s=512&d=https%3A%2F%2Fa.slack-edge.com%2F7fa9%2Fimg%2Favatars%2Fava_0000-512.png',\n",
       "  u'image_72': u'https://secure.gravatar.com/avatar/e3706600c03cca80ffeadb20fe28f58a.jpg?s=72&d=https%3A%2F%2Fa.slack-edge.com%2F66f9%2Fimg%2Favatars%2Fava_0000-72.png',\n",
       "  u'last_name': u'Huang',\n",
       "  u'real_name': u'Eugene Huang',\n",
       "  u'real_name_normalized': u'Eugene Huang'},\n",
       " u'real_name': u'Eugene Huang',\n",
       " u'status': None,\n",
       " u'team_id': u'T1Q9CFC9E',\n",
       " u'tz': u'America/Los_Angeles',\n",
       " u'tz_label': u'Pacific Daylight Time',\n",
       " u'tz_offset': -25200}"
      ]
     },
     "execution_count": 9,
     "metadata": {},
     "output_type": "execute_result"
    }
   ],
   "source": [
    "users[1]"
   ]
  },
  {
   "cell_type": "code",
   "execution_count": 27,
   "metadata": {
    "collapsed": false
   },
   "outputs": [
    {
     "data": {
      "text/plain": [
       "u'brian spiering'"
      ]
     },
     "execution_count": 27,
     "metadata": {},
     "output_type": "execute_result"
    }
   ],
   "source": [
    "response = slack.users.info('U1Q9U9EEN')\n",
    "response.body['user']['real_name'].lower()"
   ]
  },
  {
   "cell_type": "code",
   "execution_count": 26,
   "metadata": {
    "collapsed": false
   },
   "outputs": [
    {
     "data": {
      "text/plain": [
       "[u'ok', u'user']"
      ]
     },
     "execution_count": 26,
     "metadata": {},
     "output_type": "execute_result"
    }
   ],
   "source": [
    "response.body.keys()"
   ]
  },
  {
   "cell_type": "markdown",
   "metadata": {
    "collapsed": true
   },
   "source": [
    "----"
   ]
  },
  {
   "cell_type": "code",
   "execution_count": null,
   "metadata": {
    "collapsed": true
   },
   "outputs": [],
   "source": []
  }
 ],
 "metadata": {
  "anaconda-cloud": {},
  "kernelspec": {
   "display_name": "Python [bot_env]",
   "language": "python",
   "name": "Python [bot_env]"
  },
  "language_info": {
   "codemirror_mode": {
    "name": "ipython",
    "version": 2
   },
   "file_extension": ".py",
   "mimetype": "text/x-python",
   "name": "python",
   "nbconvert_exporter": "python",
   "pygments_lexer": "ipython2",
   "version": "2.7.12"
  }
 },
 "nbformat": 4,
 "nbformat_minor": 0
}
